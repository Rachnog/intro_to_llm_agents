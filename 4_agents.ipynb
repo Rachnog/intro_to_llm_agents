{
 "cells": [
  {
   "cell_type": "code",
   "execution_count": 1,
   "metadata": {},
   "outputs": [],
   "source": [
    "import os\n",
    "import yaml\n",
    "\n",
    "config = yaml.safe_load(open(\"myconfig.yml\"))\n",
    "\n",
    "os.environ[\"OPENAI_API_KEY\"] = config[\"OPEN_AI_API_KEY\"]\n",
    "os.environ[\"TAVILY_API_KEY\"] = config[\"TAVILY_API_KEY\"]\n",
    "os.environ[\"LANGCHAIN_API_KEY\"] = config[\"LANGCHAIN_API_KEY\"]\n",
    "os.environ[\"LANGCHAIN_HUB_API_KEY\"] = config[\"LANGCHAIN_API_KEY\"]\n",
    "os.environ[\"LANGCHAIN_TRACING_V2\"] = str(config[\"LANGCHAIN_TRACING_V2\"]).lower()\n",
    "os.environ[\"LANGCHAIN_ENDPOINT\"] = config[\"LANGCHAIN_ENDPOINT\"]\n",
    "os.environ[\"LANGCHAIN_HUB_API_URL\"] = config[\"LANGCHAIN_HUB_API_URL\"]\n",
    "os.environ[\"LANGCHAIN_WANDB_TRACING\"] = str(config[\"LANGCHAIN_WANDB_TRACING\"]).lower()\n",
    "os.environ[\"WANDB_PROJECT\"] = config[\"WANDB_PROJECT\"]"
   ]
  },
  {
   "cell_type": "markdown",
   "metadata": {},
   "source": [
    "## Tools"
   ]
  },
  {
   "cell_type": "code",
   "execution_count": 7,
   "metadata": {},
   "outputs": [],
   "source": [
    "from langchain.utilities.tavily_search import TavilySearchAPIWrapper\n",
    "from langchain.tools.tavily_search import TavilySearchResults\n",
    "from langchain.pydantic_v1 import BaseModel, Field\n",
    "from langchain.tools import BaseTool, StructuredTool, tool"
   ]
  },
  {
   "cell_type": "code",
   "execution_count": 6,
   "metadata": {},
   "outputs": [],
   "source": [
    "search = TavilySearchAPIWrapper()\n",
    "tavily_tool = TavilySearchResults(api_wrapper=search)"
   ]
  },
  {
   "cell_type": "code",
   "execution_count": 8,
   "metadata": {},
   "outputs": [],
   "source": [
    "@tool\n",
    "def calculate_length_tool(a: str) -> int:\n",
    "    \"\"\"The function calculates the length of the input string.\"\"\"\n",
    "    return len(a)\n",
    "\n",
    "@tool\n",
    "def calculate_uppercase_tool(a: str) -> int:\n",
    "    \"\"\"The function calculates the number of uppercase characters in the input string.\"\"\"\n",
    "    return sum(1 for c in a if c.isupper())"
   ]
  },
  {
   "cell_type": "markdown",
   "metadata": {},
   "source": [
    "## Memory"
   ]
  },
  {
   "cell_type": "code",
   "execution_count": 2,
   "metadata": {},
   "outputs": [],
   "source": [
    "from langchain.text_splitter import RecursiveCharacterTextSplitter\n",
    "from langchain_community.document_loaders import WebBaseLoader\n",
    "from langchain_community.vectorstores import FAISS\n",
    "from langchain_openai import OpenAIEmbeddings\n",
    "from langchain.tools.retriever import create_retriever_tool"
   ]
  },
  {
   "cell_type": "markdown",
   "metadata": {},
   "source": [
    "### Long-term memory"
   ]
  },
  {
   "cell_type": "code",
   "execution_count": 3,
   "metadata": {},
   "outputs": [],
   "source": [
    "loader = WebBaseLoader(\"https://neurons-lab.com/\")\n",
    "docs = loader.load()\n",
    "documents = RecursiveCharacterTextSplitter(\n",
    "    chunk_size=1000, chunk_overlap=200\n",
    ").split_documents(docs)\n",
    "vector = FAISS.from_documents(documents, OpenAIEmbeddings())\n",
    "retriever = vector.as_retriever()\n",
    "\n",
    "retriever_tool = create_retriever_tool(\n",
    "    retriever,\n",
    "    \"neurons_lab_search\",\n",
    "    \"Search for information about Neurons Lab. For any questions about Neurons Lab, you must use this tool!\",\n",
    ")"
   ]
  },
  {
   "cell_type": "markdown",
   "metadata": {},
   "source": [
    "### Short-term memory"
   ]
  },
  {
   "cell_type": "code",
   "execution_count": 9,
   "metadata": {},
   "outputs": [],
   "source": [
    "from langchain_community.chat_message_histories import ChatMessageHistory\n",
    "from langchain_core.runnables.history import RunnableWithMessageHistory"
   ]
  },
  {
   "cell_type": "code",
   "execution_count": 10,
   "metadata": {},
   "outputs": [],
   "source": [
    "message_history = ChatMessageHistory()"
   ]
  },
  {
   "cell_type": "markdown",
   "metadata": {},
   "source": [
    "### Sensory memory"
   ]
  },
  {
   "cell_type": "code",
   "execution_count": 19,
   "metadata": {},
   "outputs": [],
   "source": [
    "from langchain.prompts import PromptTemplate\n",
    "from langchain.chat_models import ChatOpenAI"
   ]
  },
  {
   "cell_type": "code",
   "execution_count": 24,
   "metadata": {},
   "outputs": [],
   "source": [
    "template =\"\"\"\n",
    "Step1 :\n",
    "I have a problem related to {agent_scratchpad}. Could you brainstorm three distinct solutions?\n",
    "Please consider a variety of factors such as cost, time, and resources.\n",
    "A:\n",
    "\"\"\"\n",
    "\n",
    "prompt = PromptTemplate(\n",
    "    input_variables=[\"agent_scratchpad\"],\n",
    "    template = template                      \n",
    ")"
   ]
  },
  {
   "cell_type": "markdown",
   "metadata": {},
   "source": [
    "## Agent"
   ]
  },
  {
   "cell_type": "code",
   "execution_count": 36,
   "metadata": {},
   "outputs": [],
   "source": [
    "from langchain.agents import AgentExecutor\n",
    "from langchain_openai import ChatOpenAI\n",
    "from langchain import hub\n",
    "\n",
    "from langchain.agents import create_openai_functions_agent\n",
    "from langchain.chat_models import ChatOpenAI"
   ]
  },
  {
   "cell_type": "code",
   "execution_count": 37,
   "metadata": {},
   "outputs": [
    {
     "name": "stdout",
     "output_type": "stream",
     "text": [
      "neurons_lab_search Search for information about Neurons Lab. For any questions about Neurons Lab, you must use this tool!\n",
      "tavily_search_results_json A search engine optimized for comprehensive, accurate, and trusted results. Useful for when you need to answer questions about current events. Input should be a search query.\n",
      "calculate_length_tool calculate_length_tool(a: str) -> int - The function calculates the length of the input string.\n",
      "calculate_uppercase_tool calculate_uppercase_tool(a: str) -> int - The function calculates the number of uppercase characters in the input string.\n"
     ]
    }
   ],
   "source": [
    "tools = [retriever_tool, tavily_tool, calculate_length_tool, calculate_uppercase_tool]\n",
    "for t in tools:\n",
    "    print(t.name, t.description)"
   ]
  },
  {
   "cell_type": "code",
   "execution_count": 39,
   "metadata": {},
   "outputs": [],
   "source": [
    "llm = ChatOpenAI(model=\"gpt-3.5-turbo\", temperature=0)\n",
    "\n",
    "agent = create_openai_functions_agent(\n",
    "        llm,\n",
    "        tools,\n",
    "        prompt\n",
    "    )\n",
    "agent_executor = AgentExecutor(agent=agent, tools=tools, verbose=True)\n",
    "\n",
    "agent_with_chat_history = RunnableWithMessageHistory(\n",
    "    agent_executor,\n",
    "    lambda session_id: message_history,\n",
    "    input_messages_key=\"agent_scratchpad\",\n",
    "    history_messages_key=\"chat_history\",\n",
    ")"
   ]
  },
  {
   "cell_type": "code",
   "execution_count": 26,
   "metadata": {},
   "outputs": [
    {
     "name": "stderr",
     "output_type": "stream",
     "text": [
      "Failed to detect the name of this notebook, you can set it manually with the WANDB_NOTEBOOK_NAME environment variable to enable code saving.\n",
      "\u001b[34m\u001b[1mwandb\u001b[0m: Streaming LangChain activity to W&B at https://wandb.ai/rachnogstyle/nlw_jan24/runs/gucv1rau\n",
      "\u001b[34m\u001b[1mwandb\u001b[0m: `WandbTracer` is currently in beta.\n",
      "\u001b[34m\u001b[1mwandb\u001b[0m: Please report any issues to https://github.com/wandb/wandb/issues with the tag `langchain`.\n"
     ]
    },
    {
     "name": "stdout",
     "output_type": "stream",
     "text": [
      "\n",
      "\n",
      "\u001b[1m> Entering new AgentExecutor chain...\u001b[0m\n"
     ]
    },
    {
     "name": "stderr",
     "output_type": "stream",
     "text": [
      "\u001b[34m\u001b[1mwandb\u001b[0m: \u001b[33mWARNING\u001b[0m WARNING: Failed to serialize model: 'int' object is not subscriptable\n"
     ]
    },
    {
     "name": "stdout",
     "output_type": "stream",
     "text": [
      "\u001b[32;1m\u001b[1;3mSure, I can help with that. To provide you with three distinct solutions related to the problem you have mentioned, I need to know more details about the specific problem you are facing. Could you please provide more information or context about the issue related to [] so that I can brainstorm relevant solutions for you?\u001b[0m\n",
      "\n",
      "\u001b[1m> Finished chain.\u001b[0m\n"
     ]
    },
    {
     "data": {
      "text/plain": [
       "{'agent_scratchpad': \"hi! I'm bob\",\n",
       " 'chat_history': [],\n",
       " 'output': 'Sure, I can help with that. To provide you with three distinct solutions related to the problem you have mentioned, I need to know more details about the specific problem you are facing. Could you please provide more information or context about the issue related to [] so that I can brainstorm relevant solutions for you?'}"
      ]
     },
     "execution_count": 26,
     "metadata": {},
     "output_type": "execute_result"
    }
   ],
   "source": [
    "agent_with_chat_history.invoke(\n",
    "    {\"agent_scratchpad\": \"hi! I'm bob\"},\n",
    "    # This is needed because in most real world scenarios, a session id is needed\n",
    "    # It isn't really used here because we are using a simple in memory ChatMessageHistory\n",
    "    config={\"configurable\": {\"session_id\": \"<foo>\"}},\n",
    ")"
   ]
  },
  {
   "cell_type": "code",
   "execution_count": 28,
   "metadata": {},
   "outputs": [
    {
     "name": "stdout",
     "output_type": "stream",
     "text": [
      "\n",
      "\n",
      "\u001b[1m> Entering new AgentExecutor chain...\u001b[0m\n"
     ]
    },
    {
     "name": "stderr",
     "output_type": "stream",
     "text": [
      "\u001b[34m\u001b[1mwandb\u001b[0m: \u001b[33mWARNING\u001b[0m WARNING: Failed to serialize model: 'int' object is not subscriptable\n"
     ]
    },
    {
     "name": "stdout",
     "output_type": "stream",
     "text": [
      "\u001b[32;1m\u001b[1;3mSure, I can help with that. Let's brainstorm three distinct solutions for the problem related to []. \n",
      "\n",
      "Solution 1: Implementing a Software Solution\n",
      "One solution could be to develop a software solution that addresses the problem. This could involve creating a custom software application or using existing software tools to automate processes, improve efficiency, and streamline operations. While this solution may require an initial investment in development and implementation, it could potentially save time and resources in the long run by increasing productivity and reducing manual work.\n",
      "\n",
      "Solution 2: Training and Education\n",
      "Another solution could involve providing training and education to employees or stakeholders to address the problem. By investing in training programs, workshops, or seminars, individuals can gain the knowledge and skills needed to effectively deal with the issue at hand. While this solution may require time and resources to organize and execute, it can lead to long-term benefits by empowering individuals to solve the problem independently.\n",
      "\n",
      "Solution 3: Outsourcing or Consulting Services\n",
      "A third solution could be to outsource the problem to a third-party service provider or consulting firm that specializes in addressing similar issues. By leveraging external expertise and resources, organizations can access specialized knowledge and experience to solve the problem efficiently. While outsourcing may involve a cost, it can be a cost-effective solution compared to hiring and training internal staff to handle the problem.\n",
      "\n",
      "These are just a few ideas for potential solutions. Each solution has its own set of advantages and considerations, so it's important to evaluate them based on the specific needs and constraints of the situation. Let me know if you need more details or assistance with implementing any of these solutions.\u001b[0m\n",
      "\n",
      "\u001b[1m> Finished chain.\u001b[0m\n"
     ]
    },
    {
     "data": {
      "text/plain": [
       "{'agent_scratchpad': \"what's my name?\",\n",
       " 'chat_history': [HumanMessage(content=\"hi! I'm bob\"),\n",
       "  AIMessage(content='Sure, I can help with that. To provide you with three distinct solutions related to the problem you have mentioned, I need to know more details about the specific problem you are facing. Could you please provide more information or context about the issue related to [] so that I can brainstorm relevant solutions for you?')],\n",
       " 'output': \"Sure, I can help with that. Let's brainstorm three distinct solutions for the problem related to []. \\n\\nSolution 1: Implementing a Software Solution\\nOne solution could be to develop a software solution that addresses the problem. This could involve creating a custom software application or using existing software tools to automate processes, improve efficiency, and streamline operations. While this solution may require an initial investment in development and implementation, it could potentially save time and resources in the long run by increasing productivity and reducing manual work.\\n\\nSolution 2: Training and Education\\nAnother solution could involve providing training and education to employees or stakeholders to address the problem. By investing in training programs, workshops, or seminars, individuals can gain the knowledge and skills needed to effectively deal with the issue at hand. While this solution may require time and resources to organize and execute, it can lead to long-term benefits by empowering individuals to solve the problem independently.\\n\\nSolution 3: Outsourcing or Consulting Services\\nA third solution could be to outsource the problem to a third-party service provider or consulting firm that specializes in addressing similar issues. By leveraging external expertise and resources, organizations can access specialized knowledge and experience to solve the problem efficiently. While outsourcing may involve a cost, it can be a cost-effective solution compared to hiring and training internal staff to handle the problem.\\n\\nThese are just a few ideas for potential solutions. Each solution has its own set of advantages and considerations, so it's important to evaluate them based on the specific needs and constraints of the situation. Let me know if you need more details or assistance with implementing any of these solutions.\"}"
      ]
     },
     "execution_count": 28,
     "metadata": {},
     "output_type": "execute_result"
    }
   ],
   "source": [
    "agent_with_chat_history.invoke(\n",
    "    {\"agent_scratchpad\": \"what's my name?\"},\n",
    "    # This is needed because in most real world scenarios, a session id is needed\n",
    "    # It isn't really used here because we are using a simple in memory ChatMessageHistory\n",
    "    config={\"configurable\": {\"session_id\": \"<foo>\"}},\n",
    ")"
   ]
  },
  {
   "cell_type": "code",
   "execution_count": null,
   "metadata": {},
   "outputs": [],
   "source": []
  }
 ],
 "metadata": {
  "kernelspec": {
   "display_name": ".venv",
   "language": "python",
   "name": "python3"
  },
  "language_info": {
   "codemirror_mode": {
    "name": "ipython",
    "version": 3
   },
   "file_extension": ".py",
   "mimetype": "text/x-python",
   "name": "python",
   "nbconvert_exporter": "python",
   "pygments_lexer": "ipython3",
   "version": "3.11.3"
  }
 },
 "nbformat": 4,
 "nbformat_minor": 2
}
