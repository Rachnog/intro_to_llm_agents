{
 "cells": [
  {
   "cell_type": "code",
   "execution_count": 1,
   "metadata": {},
   "outputs": [],
   "source": [
    "import os\n",
    "import yaml\n",
    "\n",
    "config = yaml.safe_load(open(\"myconfig.yml\"))\n",
    "\n",
    "os.environ[\"OPENAI_API_KEY\"] = config[\"OPEN_AI_API_KEY\"]\n",
    "os.environ[\"TAVILY_API_KEY\"] = config[\"TAVILY_API_KEY\"]\n",
    "os.environ[\"LANGCHAIN_API_KEY\"] = config[\"LANGCHAIN_API_KEY\"]\n",
    "os.environ[\"LANGCHAIN_HUB_API_KEY\"] = config[\"LANGCHAIN_API_KEY\"]\n",
    "os.environ[\"LANGCHAIN_TRACING_V2\"] = str(config[\"LANGCHAIN_TRACING_V2\"]).lower()\n",
    "os.environ[\"LANGCHAIN_ENDPOINT\"] = config[\"LANGCHAIN_ENDPOINT\"]\n",
    "os.environ[\"LANGCHAIN_HUB_API_URL\"] = config[\"LANGCHAIN_HUB_API_URL\"]\n",
    "os.environ[\"LANGCHAIN_WANDB_TRACING\"] = str(config[\"LANGCHAIN_WANDB_TRACING\"]).lower()\n",
    "os.environ[\"WANDB_PROJECT\"] = config[\"WANDB_PROJECT\"]"
   ]
  },
  {
   "cell_type": "markdown",
   "metadata": {},
   "source": [
    "# Tools"
   ]
  },
  {
   "cell_type": "code",
   "execution_count": 2,
   "metadata": {},
   "outputs": [],
   "source": [
    "from langchain.utilities.tavily_search import TavilySearchAPIWrapper\n",
    "from langchain.tools.tavily_search import TavilySearchResults\n",
    "from langchain.tools import tool"
   ]
  },
  {
   "cell_type": "code",
   "execution_count": 3,
   "metadata": {},
   "outputs": [],
   "source": [
    "search = TavilySearchAPIWrapper()\n",
    "tavily_tool = TavilySearchResults(api_wrapper=search)"
   ]
  },
  {
   "cell_type": "code",
   "execution_count": 4,
   "metadata": {},
   "outputs": [],
   "source": [
    "@tool\n",
    "def calculate_length_tool(a: str) -> int:\n",
    "    \"\"\"The function calculates the length of the input string.\"\"\"\n",
    "    return len(a)\n",
    "\n",
    "@tool\n",
    "def calculate_uppercase_tool(a: str) -> int:\n",
    "    \"\"\"The function calculates the number of uppercase characters in the input string.\"\"\"\n",
    "    return sum(1 for c in a if c.isupper())"
   ]
  },
  {
   "cell_type": "markdown",
   "metadata": {},
   "source": [
    "# Memory"
   ]
  },
  {
   "cell_type": "code",
   "execution_count": 5,
   "metadata": {},
   "outputs": [],
   "source": [
    "from langchain.text_splitter import RecursiveCharacterTextSplitter\n",
    "from langchain_community.document_loaders import WebBaseLoader\n",
    "from langchain_community.vectorstores import FAISS\n",
    "from langchain_openai import OpenAIEmbeddings\n",
    "from langchain.tools.retriever import create_retriever_tool"
   ]
  },
  {
   "cell_type": "markdown",
   "metadata": {},
   "source": [
    "### Long-term memory"
   ]
  },
  {
   "cell_type": "code",
   "execution_count": 6,
   "metadata": {},
   "outputs": [],
   "source": [
    "loader = WebBaseLoader(\"https://neurons-lab.com/\")\n",
    "docs = loader.load()\n",
    "documents = RecursiveCharacterTextSplitter(\n",
    "    chunk_size=1000, chunk_overlap=200\n",
    ").split_documents(docs)\n",
    "vector = FAISS.from_documents(documents, OpenAIEmbeddings())\n",
    "retriever = vector.as_retriever()\n",
    "\n",
    "retriever_tool = create_retriever_tool(\n",
    "    retriever,\n",
    "    \"neurons_lab_search\",\n",
    "    \"Search for information about Neurons Lab. For any questions about Neurons Lab, you must use this tool!\",\n",
    ")"
   ]
  },
  {
   "cell_type": "markdown",
   "metadata": {},
   "source": [
    "### Short-term memory"
   ]
  },
  {
   "cell_type": "code",
   "execution_count": 7,
   "metadata": {},
   "outputs": [],
   "source": [
    "from langchain_community.chat_message_histories import ChatMessageHistory\n",
    "from langchain_core.runnables.history import RunnableWithMessageHistory"
   ]
  },
  {
   "cell_type": "code",
   "execution_count": 8,
   "metadata": {},
   "outputs": [],
   "source": [
    "message_history = ChatMessageHistory()"
   ]
  },
  {
   "cell_type": "markdown",
   "metadata": {},
   "source": [
    "### Sensory memory\n",
    "\n",
    "https://smith.langchain.com/hub/hwchase17/openai-functions-agent"
   ]
  },
  {
   "cell_type": "code",
   "execution_count": 9,
   "metadata": {},
   "outputs": [],
   "source": [
    "from langchain.prompts import PromptTemplate\n",
    "from langchain.chat_models import ChatOpenAI\n",
    "from langchain import hub"
   ]
  },
  {
   "cell_type": "code",
   "execution_count": 10,
   "metadata": {},
   "outputs": [],
   "source": [
    "prompt = hub.pull(\"hwchase17/openai-functions-agent\")\n",
    "# prompt = hub.pull(\"wfh/langsmith-agent-prompt:5d466cbc\")"
   ]
  },
  {
   "cell_type": "code",
   "execution_count": 11,
   "metadata": {},
   "outputs": [
    {
     "data": {
      "text/plain": [
       "ChatPromptTemplate(input_variables=['agent_scratchpad', 'input'], input_types={'agent_scratchpad': typing.List[typing.Union[langchain_core.messages.ai.AIMessage, langchain_core.messages.human.HumanMessage, langchain_core.messages.chat.ChatMessage, langchain_core.messages.system.SystemMessage, langchain_core.messages.function.FunctionMessage, langchain_core.messages.tool.ToolMessage]]}, messages=[SystemMessagePromptTemplate(prompt=PromptTemplate(input_variables=[], template='You are a helpful assistant.')), HumanMessagePromptTemplate(prompt=PromptTemplate(input_variables=['input'], template='{input}')), MessagesPlaceholder(variable_name='agent_scratchpad')])"
      ]
     },
     "execution_count": 11,
     "metadata": {},
     "output_type": "execute_result"
    }
   ],
   "source": [
    "prompt"
   ]
  },
  {
   "cell_type": "markdown",
   "metadata": {},
   "source": [
    "# Agent"
   ]
  },
  {
   "cell_type": "markdown",
   "metadata": {},
   "source": [
    "### All tools together"
   ]
  },
  {
   "cell_type": "code",
   "execution_count": 12,
   "metadata": {},
   "outputs": [
    {
     "name": "stdout",
     "output_type": "stream",
     "text": [
      "neurons_lab_search Search for information about Neurons Lab. For any questions about Neurons Lab, you must use this tool!\n",
      "tavily_search_results_json A search engine optimized for comprehensive, accurate, and trusted results. Useful for when you need to answer questions about current events. Input should be a search query.\n",
      "calculate_length_tool calculate_length_tool(a: str) -> int - The function calculates the length of the input string.\n",
      "calculate_uppercase_tool calculate_uppercase_tool(a: str) -> int - The function calculates the number of uppercase characters in the input string.\n"
     ]
    }
   ],
   "source": [
    "tools = [retriever_tool, tavily_tool, calculate_length_tool, calculate_uppercase_tool]\n",
    "for t in tools:\n",
    "    print(t.name, t.description)"
   ]
  },
  {
   "cell_type": "markdown",
   "metadata": {},
   "source": [
    "### Defining an agent with tools and memory"
   ]
  },
  {
   "cell_type": "code",
   "execution_count": 13,
   "metadata": {},
   "outputs": [],
   "source": [
    "from langchain_openai import ChatOpenAI\n",
    "from langchain.agents import create_openai_functions_agent\n",
    "from langchain.agents import AgentExecutor"
   ]
  },
  {
   "cell_type": "code",
   "execution_count": 14,
   "metadata": {},
   "outputs": [],
   "source": [
    "llm = ChatOpenAI(model=\"gpt-3.5-turbo\", temperature=0)\n",
    "agent = create_openai_functions_agent(llm, tools, prompt)\n",
    "agent_executor = AgentExecutor(agent=agent, tools=tools, verbose=True)\n",
    "agent_with_chat_history = RunnableWithMessageHistory(\n",
    "    agent_executor,\n",
    "    lambda session_id: message_history,\n",
    "    input_messages_key=\"input\",\n",
    "    history_messages_key=\"chat_history\",\n",
    ")"
   ]
  },
  {
   "cell_type": "markdown",
   "metadata": {},
   "source": [
    "### Running an agent"
   ]
  },
  {
   "cell_type": "code",
   "execution_count": 15,
   "metadata": {},
   "outputs": [
    {
     "name": "stderr",
     "output_type": "stream",
     "text": [
      "Failed to detect the name of this notebook, you can set it manually with the WANDB_NOTEBOOK_NAME environment variable to enable code saving.\n",
      "\u001b[34m\u001b[1mwandb\u001b[0m: Streaming LangChain activity to W&B at https://wandb.ai/rachnogstyle/nlw_jan24/runs/tormva6b\n",
      "\u001b[34m\u001b[1mwandb\u001b[0m: `WandbTracer` is currently in beta.\n",
      "\u001b[34m\u001b[1mwandb\u001b[0m: Please report any issues to https://github.com/wandb/wandb/issues with the tag `langchain`.\n"
     ]
    },
    {
     "name": "stdout",
     "output_type": "stream",
     "text": [
      "\n",
      "\n",
      "\u001b[1m> Entering new AgentExecutor chain...\u001b[0m\n"
     ]
    },
    {
     "name": "stderr",
     "output_type": "stream",
     "text": [
      "\u001b[34m\u001b[1mwandb\u001b[0m: \u001b[33mWARNING\u001b[0m WARNING: Failed to serialize model: 'int' object is not subscriptable\n"
     ]
    },
    {
     "name": "stdout",
     "output_type": "stream",
     "text": [
      "\u001b[32;1m\u001b[1;3mHello! How can I assist you today?\u001b[0m\n",
      "\n",
      "\u001b[1m> Finished chain.\u001b[0m\n"
     ]
    },
    {
     "data": {
      "text/plain": [
       "{'input': 'Hello!',\n",
       " 'chat_history': [],\n",
       " 'output': 'Hello! How can I assist you today?'}"
      ]
     },
     "execution_count": 15,
     "metadata": {},
     "output_type": "execute_result"
    }
   ],
   "source": [
    "agent_with_chat_history.invoke(\n",
    "    {\n",
    "        \"input\": \"Hello!\"\n",
    "    },\n",
    "    config={\"configurable\": {\"session_id\": \"<foo>\"}},\n",
    ")"
   ]
  },
  {
   "cell_type": "code",
   "execution_count": 16,
   "metadata": {},
   "outputs": [
    {
     "name": "stdout",
     "output_type": "stream",
     "text": [
      "\n",
      "\n",
      "\u001b[1m> Entering new AgentExecutor chain...\u001b[0m\n",
      "\u001b[32;1m\u001b[1;3m\n",
      "Invoking: `neurons_lab_search` with `{'query': 'Neurons Lab services description'}`\n",
      "\n",
      "\n",
      "\u001b[0m\u001b[36;1m\u001b[1;3mNeurons Lab | Home\n",
      "\n",
      "\n",
      "\n",
      "\n",
      "\n",
      "\n",
      "\n",
      "\n",
      "\n",
      "\n",
      "\n",
      "\n",
      "\n",
      "\n",
      "\n",
      "\n",
      "\n",
      "\n",
      "\n",
      "\n",
      "\n",
      "\n",
      "\n",
      "\n",
      "\n",
      "\n",
      " \n",
      "\n",
      "\n",
      "\n",
      "Your vision\n",
      "Our expertise\n",
      "Secret sauce*\n",
      "\n",
      "\n",
      "                            Recipe                            \n",
      "\n",
      "\n",
      "\n",
      "Partner with us\n",
      "\n",
      "\n",
      "                                for INNOVATION                                                    \n",
      "We are AI solution development experts for fast-growing companies seeking innovation through collaboration.\n",
      "\n",
      "\n",
      "\n",
      "\n",
      "\n",
      "\n",
      "\n",
      "\n",
      "\n",
      "\n",
      "\n",
      "\n",
      "\n",
      "\n",
      "\n",
      "\n",
      "\n",
      "\n",
      "\n",
      "\n",
      "\n",
      "\n",
      "HealthTech\n",
      "CleanTech\n",
      "RetailTech\n",
      "\n",
      "\n",
      "\n",
      "\n",
      "\n",
      "AWS Certified\n",
      "advanced partner\n",
      "\n",
      "\n",
      "\n",
      "\n",
      "\n",
      "\n",
      "AI2 = Accelerators2 + \n",
      "Handbook2\n",
      "\n",
      "\n",
      "AI feasibility analysis\n",
      "Discover\n",
      "\n",
      "\n",
      "AI solution engineering\n",
      "Launch\n",
      "\n",
      "\n",
      "AI operations management\n",
      "Scale\n",
      "\n",
      "\n",
      "\n",
      "\n",
      "\n",
      "Success =(Execution x Talent) / \n",
      "(Uncertainty x Time)\n",
      "\n",
      "All  stories\n",
      "\n",
      "                                    1 — 6                                    \n",
      "\n",
      "\n",
      "\n",
      "\n",
      "\n",
      "\n",
      "\n",
      "\n",
      "\n",
      "\n",
      "\n",
      "Creative Practice Solutions : Developing an AI-Driven Medical Transcription & Billing System                                                \n",
      "\n",
      "\n",
      "HealthTech\n",
      "\n",
      "\n",
      "\n",
      "Explore story\n",
      "\n",
      "Privacy Notice\n",
      " Cookie Notice\n",
      "\n",
      "\n",
      "\n",
      "\n",
      "[email protected]\n",
      " +44 330 027 2146\n",
      "\n",
      "\n",
      "\n",
      "International House, 64 Nile Str,\n",
      "London, N1 7SR, United Kingdom\n",
      "\n",
      "\n",
      "\n",
      "\n",
      "\n",
      "\n",
      "\n",
      "\n",
      "\n",
      "\n",
      "\n",
      "© 2024 Neurons Lab LTD. Registered in England and Wales, \n",
      "Company Number 12265479\n",
      "Createdby twid\n",
      "\n",
      "Release & scale faster\n",
      "We make implementation ultra-fast by deploying and customizing pre-developed solutions in NLP, computer vision, time series, and Recommender systems.\n",
      "We also share our proprietary handbooks of best practices to help your team hit the ground running. Collaboration is the only way to effectively implement innovation.\n",
      "\n",
      "\n",
      "\n",
      "\n",
      "\n",
      "\n",
      "\n",
      "\n",
      "\n",
      "\n",
      "\n",
      "\n",
      "\n",
      "\n",
      "\n",
      "\n",
      "\n",
      "\n",
      "\n",
      "\n",
      "\n",
      "\n",
      "\n",
      "\n",
      "\n",
      "\n",
      "\n",
      "\n",
      "\n",
      "\n",
      "\n",
      "\n",
      "\n",
      "\n",
      "\n",
      "\n",
      "\n",
      "\n",
      "\n",
      "\n",
      "\n",
      "\n",
      "\n",
      "\n",
      "\n",
      "\n",
      "\n",
      "\n",
      "\n",
      "\n",
      "\n",
      "\n",
      "\n",
      "\n",
      "\n",
      "\n",
      "\n",
      "\n",
      "\n",
      "\n",
      "\n",
      "\n",
      "\n",
      "\n",
      " \n",
      "\n",
      "\n",
      "\n",
      "\n",
      "Work with experts\n",
      "Our expertise lies at the intersection of AI, advanced science, and business. Using a Talent Pool of over 500 highly skilled individuals, we quickly assemble teams of PhD-level applied scientists, recognized DS/ML/AI Engineers, and MLOps who specialize in developing solutions for your industry.\n",
      "\n",
      "Release & scale faster\n",
      "We make implementation ultra-fast by deploying and customizing pre-developed solutions in NLP, computer vision, time series, and Recommender systems.\n",
      "We also share our proprietary handbooks of best practices to help your team hit the ground running. Collaboration is the only way to effectively implement innovation.\n",
      "\n",
      "\n",
      "Work with experts\n",
      "Our expertise lies at the intersection of AI, advanced science, and business. Using a Talent Pool of over 500 highly skilled individuals, we quickly assemble teams of PhD-level applied scientists, recognized DS/ML/AI Engineers, and MLOps who specialize in developing solutions for your industry.\n",
      "\n",
      "\n",
      "Grow your business & attract clients \n",
      "Do you also seek development opportunities or funding? Thanks to our advanced-tier AWS partnership and access to a vast VC network, we can aid your company in obtaining grants and other assistance.\u001b[0m\u001b[32;1m\u001b[1;3m\n",
      "Invoking: `calculate_length_tool` with `{'a': 'We are AI solution development experts for fast-growing companies seeking innovation through collaboration. Neurons Lab makes implementation ultra-fast by deploying and customizing pre-developed solutions in NLP, computer vision, time series, and Recommender systems. Our expertise lies at the intersection of AI, advanced science, and business. Using a Talent Pool of over 500 highly skilled individuals, we quickly assemble teams of PhD-level applied scientists, recognized DS/ML/AI Engineers, and MLOps who specialize in developing solutions for your industry. Neurons Lab can aid your company in obtaining grants and other assistance.'}`\n",
      "\n",
      "\n",
      "\u001b[0m\u001b[38;5;200m\u001b[1;3m638\u001b[0m"
     ]
    },
    {
     "name": "stderr",
     "output_type": "stream",
     "text": [
      "\u001b[34m\u001b[1mwandb\u001b[0m: \u001b[33mWARNING\u001b[0m WARNING: Failed to serialize model: 'int' object is not subscriptable\n"
     ]
    },
    {
     "name": "stdout",
     "output_type": "stream",
     "text": [
      "\u001b[32;1m\u001b[1;3mThe description of Neurons Lab services is 638 characters long.\u001b[0m\n",
      "\n",
      "\u001b[1m> Finished chain.\u001b[0m\n"
     ]
    },
    {
     "data": {
      "text/plain": [
       "{'input': 'Find the description of Neurons Lab services and calculate the length of this description',\n",
       " 'chat_history': [HumanMessage(content='Hello!'),\n",
       "  AIMessage(content='Hello! How can I assist you today?')],\n",
       " 'output': 'The description of Neurons Lab services is 638 characters long.'}"
      ]
     },
     "execution_count": 16,
     "metadata": {},
     "output_type": "execute_result"
    }
   ],
   "source": [
    "agent_with_chat_history.invoke(\n",
    "    {\n",
    "        \"input\": \"Find the description of Neurons Lab services and calculate the length of this description\"\n",
    "    }, \n",
    "    config={\"configurable\": {\"session_id\": \"<foo>\"}},\n",
    ")"
   ]
  },
  {
   "cell_type": "code",
   "execution_count": 17,
   "metadata": {},
   "outputs": [
    {
     "name": "stdout",
     "output_type": "stream",
     "text": [
      "\n",
      "\n",
      "\u001b[1m> Entering new AgentExecutor chain...\u001b[0m\n",
      "\u001b[32;1m\u001b[1;3m\n",
      "Invoking: `neurons_lab_search` with `{'query': 'Neurons Lab services description'}`\n",
      "\n",
      "\n",
      "\u001b[0m\u001b[36;1m\u001b[1;3mNeurons Lab | Home\n",
      "\n",
      "\n",
      "\n",
      "\n",
      "\n",
      "\n",
      "\n",
      "\n",
      "\n",
      "\n",
      "\n",
      "\n",
      "\n",
      "\n",
      "\n",
      "\n",
      "\n",
      "\n",
      "\n",
      "\n",
      "\n",
      "\n",
      "\n",
      "\n",
      "\n",
      "\n",
      " \n",
      "\n",
      "\n",
      "\n",
      "Your vision\n",
      "Our expertise\n",
      "Secret sauce*\n",
      "\n",
      "\n",
      "                            Recipe                            \n",
      "\n",
      "\n",
      "\n",
      "Partner with us\n",
      "\n",
      "\n",
      "                                for INNOVATION                                                    \n",
      "We are AI solution development experts for fast-growing companies seeking innovation through collaboration.\n",
      "\n",
      "\n",
      "\n",
      "\n",
      "\n",
      "\n",
      "\n",
      "\n",
      "\n",
      "\n",
      "\n",
      "\n",
      "\n",
      "\n",
      "\n",
      "\n",
      "\n",
      "\n",
      "\n",
      "\n",
      "\n",
      "\n",
      "HealthTech\n",
      "CleanTech\n",
      "RetailTech\n",
      "\n",
      "\n",
      "\n",
      "\n",
      "\n",
      "AWS Certified\n",
      "advanced partner\n",
      "\n",
      "\n",
      "\n",
      "\n",
      "\n",
      "\n",
      "AI2 = Accelerators2 + \n",
      "Handbook2\n",
      "\n",
      "\n",
      "AI feasibility analysis\n",
      "Discover\n",
      "\n",
      "\n",
      "AI solution engineering\n",
      "Launch\n",
      "\n",
      "\n",
      "AI operations management\n",
      "Scale\n",
      "\n",
      "\n",
      "\n",
      "\n",
      "\n",
      "Success =(Execution x Talent) / \n",
      "(Uncertainty x Time)\n",
      "\n",
      "All  stories\n",
      "\n",
      "                                    1 — 6                                    \n",
      "\n",
      "\n",
      "\n",
      "\n",
      "\n",
      "\n",
      "\n",
      "\n",
      "\n",
      "\n",
      "\n",
      "Creative Practice Solutions : Developing an AI-Driven Medical Transcription & Billing System                                                \n",
      "\n",
      "\n",
      "HealthTech\n",
      "\n",
      "\n",
      "\n",
      "Explore story\n",
      "\n",
      "Privacy Notice\n",
      " Cookie Notice\n",
      "\n",
      "\n",
      "\n",
      "\n",
      "[email protected]\n",
      " +44 330 027 2146\n",
      "\n",
      "\n",
      "\n",
      "International House, 64 Nile Str,\n",
      "London, N1 7SR, United Kingdom\n",
      "\n",
      "\n",
      "\n",
      "\n",
      "\n",
      "\n",
      "\n",
      "\n",
      "\n",
      "\n",
      "\n",
      "© 2024 Neurons Lab LTD. Registered in England and Wales, \n",
      "Company Number 12265479\n",
      "Createdby twid\n",
      "\n",
      "Release & scale faster\n",
      "We make implementation ultra-fast by deploying and customizing pre-developed solutions in NLP, computer vision, time series, and Recommender systems.\n",
      "We also share our proprietary handbooks of best practices to help your team hit the ground running. Collaboration is the only way to effectively implement innovation.\n",
      "\n",
      "\n",
      "\n",
      "\n",
      "\n",
      "\n",
      "\n",
      "\n",
      "\n",
      "\n",
      "\n",
      "\n",
      "\n",
      "\n",
      "\n",
      "\n",
      "\n",
      "\n",
      "\n",
      "\n",
      "\n",
      "\n",
      "\n",
      "\n",
      "\n",
      "\n",
      "\n",
      "\n",
      "\n",
      "\n",
      "\n",
      "\n",
      "\n",
      "\n",
      "\n",
      "\n",
      "\n",
      "\n",
      "\n",
      "\n",
      "\n",
      "\n",
      "\n",
      "\n",
      "\n",
      "\n",
      "\n",
      "\n",
      "\n",
      "\n",
      "\n",
      "\n",
      "\n",
      "\n",
      "\n",
      "\n",
      "\n",
      "\n",
      "\n",
      "\n",
      "\n",
      "\n",
      "\n",
      "\n",
      " \n",
      "\n",
      "\n",
      "\n",
      "\n",
      "Work with experts\n",
      "Our expertise lies at the intersection of AI, advanced science, and business. Using a Talent Pool of over 500 highly skilled individuals, we quickly assemble teams of PhD-level applied scientists, recognized DS/ML/AI Engineers, and MLOps who specialize in developing solutions for your industry.\n",
      "\n",
      "Release & scale faster\n",
      "We make implementation ultra-fast by deploying and customizing pre-developed solutions in NLP, computer vision, time series, and Recommender systems.\n",
      "We also share our proprietary handbooks of best practices to help your team hit the ground running. Collaboration is the only way to effectively implement innovation.\n",
      "\n",
      "\n",
      "Work with experts\n",
      "Our expertise lies at the intersection of AI, advanced science, and business. Using a Talent Pool of over 500 highly skilled individuals, we quickly assemble teams of PhD-level applied scientists, recognized DS/ML/AI Engineers, and MLOps who specialize in developing solutions for your industry.\n",
      "\n",
      "\n",
      "Grow your business & attract clients \n",
      "Do you also seek development opportunities or funding? Thanks to our advanced-tier AWS partnership and access to a vast VC network, we can aid your company in obtaining grants and other assistance.\u001b[0m\u001b[32;1m\u001b[1;3m\n",
      "Invoking: `calculate_uppercase_tool` with `{'a': 'We are AI solution development experts for fast-growing companies seeking innovation through collaboration. Release & scale faster We make implementation ultra-fast by deploying and customizing pre-developed solutions in NLP, computer vision, time series, and Recommender systems. We also share our proprietary handbooks of best practices to help your team hit the ground running. Collaboration is the only way to effectively implement innovation. Work with experts Our expertise lies at the intersection of AI, advanced science, and business. Using a Talent Pool of over 500 highly skilled individuals, we quickly assemble teams of PhD-level applied scientists, recognized DS/ML/AI Engineers, and MLOps who specialize in developing solutions for your industry. Release & scale faster We make implementation ultra-fast by deploying and customizing pre-developed solutions in NLP, computer vision, time series, and Recommender systems. We also share our proprietary handbooks of best practices to help your team hit the ground running. Collaboration is the only way to effectively implement innovation. Work with experts Our expertise lies at the intersection of AI, advanced science, and business. Using a Talent Pool of over 500 highly skilled individuals, we quickly assemble teams of PhD-level applied scientists, recognized DS/ML/AI Engineers, and MLOps who specialize in developing solutions for your industry. Grow your business & attract clients Do you also seek development opportunities or funding? Thanks to our advanced-tier AWS partnership and access to a vast VC network, we can aid your company in obtaining grants and other assistance.'}`\n",
      "\n",
      "\n",
      "\u001b[0m\u001b[36;1m\u001b[1;3m65\u001b[0m"
     ]
    },
    {
     "name": "stderr",
     "output_type": "stream",
     "text": [
      "\u001b[34m\u001b[1mwandb\u001b[0m: \u001b[33mWARNING\u001b[0m WARNING: Failed to serialize model: 'int' object is not subscriptable\n"
     ]
    },
    {
     "name": "stdout",
     "output_type": "stream",
     "text": [
      "\u001b[32;1m\u001b[1;3mThe description of Neurons Lab services contains 65 uppercase characters.\u001b[0m\n",
      "\n",
      "\u001b[1m> Finished chain.\u001b[0m\n"
     ]
    },
    {
     "data": {
      "text/plain": [
       "{'input': 'Find the description of Neurons Lab services and calculate the uppercase characters of this description',\n",
       " 'chat_history': [HumanMessage(content='Hello!'),\n",
       "  AIMessage(content='Hello! How can I assist you today?'),\n",
       "  HumanMessage(content='Find the description of Neurons Lab services and calculate the length of this description'),\n",
       "  AIMessage(content='The description of Neurons Lab services is 638 characters long.')],\n",
       " 'output': 'The description of Neurons Lab services contains 65 uppercase characters.'}"
      ]
     },
     "execution_count": 17,
     "metadata": {},
     "output_type": "execute_result"
    }
   ],
   "source": [
    "agent_with_chat_history.invoke(\n",
    "    {\n",
    "        \"input\": \"Find the description of Neurons Lab services and calculate the uppercase characters of this description\"\n",
    "    }, \n",
    "    config={\"configurable\": {\"session_id\": \"<foo>\"}},\n",
    ")"
   ]
  },
  {
   "cell_type": "code",
   "execution_count": 18,
   "metadata": {},
   "outputs": [
    {
     "name": "stdout",
     "output_type": "stream",
     "text": [
      "\n",
      "\n",
      "\u001b[1m> Entering new AgentExecutor chain...\u001b[0m\n",
      "\u001b[32;1m\u001b[1;3m\n",
      "Invoking: `tavily_search_results_json` with `{'query': 'weather today in Madrid'}`\n",
      "\n",
      "\n",
      "\u001b[0m\u001b[33;1m\u001b[1;3m[{'url': 'https://www.weatherapi.com/', 'content': \"Weather in Madrid is {'location': {'name': 'Madrid', 'region': 'Madrid', 'country': 'Spain', 'lat': 40.4, 'lon': -3.68, 'tz_id': 'Europe/Madrid', 'localtime_epoch': 1708630897, 'localtime': '2024-02-22 20:41'}, 'current': {'last_updated_epoch': 1708630200, 'last_updated': '2024-02-22 20:30', 'temp_c': 12.0, 'temp_f': 53.6, 'is_day': 0, 'condition': {'text': 'Light rain', 'icon': '//cdn.weatherapi.com/weather/64x64/night/296.png', 'code': 1183}, 'wind_mph': 16.1, 'wind_kph': 25.9, 'wind_degree': 210, 'wind_dir': 'SSW', 'pressure_mb': 1010.0, 'pressure_in': 29.83, 'precip_mm': 0.25, 'precip_in': 0.01, 'humidity': 94, 'cloud': 75, 'feelslike_c': 9.3, 'feelslike_f': 48.8, 'vis_km': 10.0, 'vis_miles': 6.0, 'uv': 1.0, 'gust_mph': 22.4, 'gust_kph': 36.1}}\"}, {'url': 'https://www.weather25.com/europe/spain/madrid?page=month&month=February', 'content': 'Madrid weather in February 2024 Click on a day for an hourly weather forecast Sunday Feb 18 0 in 62° / 44° Monday Feb 19 0 in 64° / 48° Tuesday Feb 20 0 in 66° / 44° Wednesday Feb 21 0 in 64° / 46° Thursday Feb 22 0.02 in 55° / 42°'}, {'url': 'https://www.accuweather.com/en/es/madrid/308526/february-weather/308526', 'content': 'Get the monthly weather forecast for Madrid, Madrid, Spain, including daily high/low, historical averages, to help you plan ahead.'}, {'url': 'https://world-weather.info/forecast/spain/madrid/february-2024/', 'content': \"Madrid Weather Forecast for February 2024 is based on long term prognosis and previous years' statistical data. 2015 2016 2017 2018 2019 2020 2021 2022 2023 2024 2025 Jan Feb Mar Apr May Jun Jul Aug Sep Oct Nov Dec February Start Week On Sunday Monday Sun Mon Tue Wed Thu Fri Sat 1 +55° +46° 2 +55° +48° 3 +54° +46° 4 +55° +46° 5 +52° +46° 6 +52°\"}, {'url': 'https://world-weather.info/forecast/spain/madrid/22-february/', 'content': 'Weather Forecast for February 22 in Madrid, Community of Madrid - temperature, wind, atmospheric pressure, humidity and precipitations. Detailed hourly weather chart. February 20 February 21 Select date: February 23 February 24 February 22, 2024 Atmospheric conditions and temperature °F RealFeel °F Atmospheric pressure inHg Wind speed mph Humidity'}]\u001b[0m\u001b[32;1m\u001b[1;3m\n",
      "Invoking: `calculate_uppercase_tool` with `{'a': 'Weather in Madrid is Light rain with a temperature of 12.0 degrees Celsius and 75% humidity.'}`\n",
      "\n",
      "\n",
      "\u001b[0m\u001b[36;1m\u001b[1;3m4\u001b[0m"
     ]
    },
    {
     "name": "stderr",
     "output_type": "stream",
     "text": [
      "\u001b[34m\u001b[1mwandb\u001b[0m: \u001b[33mWARNING\u001b[0m WARNING: Failed to serialize model: 'int' object is not subscriptable\n"
     ]
    },
    {
     "name": "stdout",
     "output_type": "stream",
     "text": [
      "\u001b[32;1m\u001b[1;3mThe weather in Madrid today is light rain with a temperature of 12.0 degrees Celsius and 75% humidity. The description contains 4 uppercase characters.\u001b[0m\n",
      "\n",
      "\u001b[1m> Finished chain.\u001b[0m\n"
     ]
    },
    {
     "data": {
      "text/plain": [
       "{'input': 'What is the weather today in Madrid and calculate the uppercase characters of this description',\n",
       " 'chat_history': [HumanMessage(content='Hello!'),\n",
       "  AIMessage(content='Hello! How can I assist you today?'),\n",
       "  HumanMessage(content='Find the description of Neurons Lab services and calculate the length of this description'),\n",
       "  AIMessage(content='The description of Neurons Lab services is 638 characters long.'),\n",
       "  HumanMessage(content='Find the description of Neurons Lab services and calculate the uppercase characters of this description'),\n",
       "  AIMessage(content='The description of Neurons Lab services contains 65 uppercase characters.')],\n",
       " 'output': 'The weather in Madrid today is light rain with a temperature of 12.0 degrees Celsius and 75% humidity. The description contains 4 uppercase characters.'}"
      ]
     },
     "execution_count": 18,
     "metadata": {},
     "output_type": "execute_result"
    }
   ],
   "source": [
    "agent_with_chat_history.invoke(\n",
    "    {\n",
    "        \"input\": \"What is the weather today in Madrid and calculate the uppercase characters of this description\"\n",
    "    }, \n",
    "    config={\"configurable\": {\"session_id\": \"<foo>\"}},\n",
    ")"
   ]
  },
  {
   "cell_type": "code",
   "execution_count": 19,
   "metadata": {},
   "outputs": [
    {
     "name": "stdout",
     "output_type": "stream",
     "text": [
      "\n",
      "\n",
      "\u001b[1m> Entering new AgentExecutor chain...\u001b[0m\n"
     ]
    },
    {
     "name": "stderr",
     "output_type": "stream",
     "text": [
      "\u001b[34m\u001b[1mwandb\u001b[0m: \u001b[33mWARNING\u001b[0m WARNING: Failed to serialize model: 'int' object is not subscriptable\n"
     ]
    },
    {
     "name": "stdout",
     "output_type": "stream",
     "text": [
      "\u001b[32;1m\u001b[1;3mToday, we have discussed Neurons Lab, a company that specializes in neuroscience research and technology. We have also talked about the services they offer, such as brain imaging, neurofeedback, and cognitive enhancement. Additionally, we explored the importance of neuroscience in understanding the brain and behavior. If you have any more questions or need further information, feel free to ask!\u001b[0m\n",
      "\n",
      "\u001b[1m> Finished chain.\u001b[0m\n"
     ]
    },
    {
     "data": {
      "text/plain": [
       "{'input': 'Make a quick summary of what we have discussed today',\n",
       " 'chat_history': [HumanMessage(content='Hello!'),\n",
       "  AIMessage(content='Hello! How can I assist you today?'),\n",
       "  HumanMessage(content='Find the description of Neurons Lab services and calculate the length of this description'),\n",
       "  AIMessage(content='The description of Neurons Lab services is 638 characters long.'),\n",
       "  HumanMessage(content='Find the description of Neurons Lab services and calculate the uppercase characters of this description'),\n",
       "  AIMessage(content='The description of Neurons Lab services contains 65 uppercase characters.'),\n",
       "  HumanMessage(content='What is the weather today in Madrid and calculate the uppercase characters of this description'),\n",
       "  AIMessage(content='The weather in Madrid today is light rain with a temperature of 12.0 degrees Celsius and 75% humidity. The description contains 4 uppercase characters.')],\n",
       " 'output': 'Today, we have discussed Neurons Lab, a company that specializes in neuroscience research and technology. We have also talked about the services they offer, such as brain imaging, neurofeedback, and cognitive enhancement. Additionally, we explored the importance of neuroscience in understanding the brain and behavior. If you have any more questions or need further information, feel free to ask!'}"
      ]
     },
     "execution_count": 19,
     "metadata": {},
     "output_type": "execute_result"
    }
   ],
   "source": [
    "agent_with_chat_history.invoke(\n",
    "    {\n",
    "        \"input\": \"Make a quick summary of what we have discussed today\"\n",
    "    }, \n",
    "    config={\"configurable\": {\"session_id\": \"<foo>\"}},\n",
    ")"
   ]
  },
  {
   "cell_type": "markdown",
   "metadata": {},
   "source": [
    "### Structuring outputs"
   ]
  },
  {
   "cell_type": "code",
   "execution_count": 60,
   "metadata": {},
   "outputs": [],
   "source": [
    "from langchain.output_parsers import PydanticOutputParser\n",
    "from langchain_core.pydantic_v1 import BaseModel, Field, validator"
   ]
  },
  {
   "cell_type": "code",
   "execution_count": 26,
   "metadata": {},
   "outputs": [],
   "source": [
    "# Define your desired data structure.\n",
    "class DesiredStructure(BaseModel):\n",
    "    question: str = Field(description=\"the question asked\")\n",
    "    numerical_answer: int = Field(description=\"the number extracted from the answer, text excluded\")\n",
    "    text_answer: str = Field(description=\"the text part of the answer, numbers excluded\")\n",
    "parser = PydanticOutputParser(pydantic_object=DesiredStructure)"
   ]
  },
  {
   "cell_type": "code",
   "execution_count": 64,
   "metadata": {},
   "outputs": [
    {
     "name": "stderr",
     "output_type": "stream",
     "text": [
      "\u001b[34m\u001b[1mwandb\u001b[0m: \u001b[33mWARNING\u001b[0m WARNING: Failed to serialize model: 'int' object is not subscriptable\n"
     ]
    }
   ],
   "source": [
    "model = ChatOpenAI(model_name=\"gpt-3.5-turbo\", temperature=0.0)\n",
    "prompt = PromptTemplate(\n",
    "    template=\"Answer the user query.\\n{format_instructions}\\n{query}\\n\",\n",
    "    input_variables=[\"query\"],\n",
    "    partial_variables={\"format_instructions\": parser.get_format_instructions()},\n",
    ")\n",
    "prompt_and_model = prompt | model\n",
    "output = prompt_and_model.invoke({\n",
    "    \"query\": \"Find the description of Neurons Lab services and calculate the length of this description\"}\n",
    ")"
   ]
  },
  {
   "cell_type": "code",
   "execution_count": 65,
   "metadata": {},
   "outputs": [
    {
     "data": {
      "text/plain": [
       "AIMessage(content='{\\n  \"question\": \"Find the description of Neurons Lab services and calculate the length of this description\",\\n  \"numerical_answer\": 56,\\n  \"text_answer\": \"Neurons Lab services provide cutting-edge solutions in the field of artificial intelligence and machine learning.\"\\n}')"
      ]
     },
     "execution_count": 65,
     "metadata": {},
     "output_type": "execute_result"
    }
   ],
   "source": [
    "output"
   ]
  },
  {
   "cell_type": "markdown",
   "metadata": {},
   "source": [
    "Next stes: evaluation and benchmarks https://python.langchain.com/docs/langsmith/walkthrough"
   ]
  }
 ],
 "metadata": {
  "kernelspec": {
   "display_name": ".venv",
   "language": "python",
   "name": "python3"
  },
  "language_info": {
   "codemirror_mode": {
    "name": "ipython",
    "version": 3
   },
   "file_extension": ".py",
   "mimetype": "text/x-python",
   "name": "python",
   "nbconvert_exporter": "python",
   "pygments_lexer": "ipython3",
   "version": "3.11.3"
  }
 },
 "nbformat": 4,
 "nbformat_minor": 2
}
